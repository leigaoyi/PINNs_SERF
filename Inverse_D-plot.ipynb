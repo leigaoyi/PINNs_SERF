{
 "cells": [
  {
   "cell_type": "code",
   "execution_count": 2,
   "id": "826d91b3",
   "metadata": {},
   "outputs": [
    {
     "name": "stderr",
     "output_type": "stream",
     "text": [
      "Using backend: pytorch\n",
      "\n"
     ]
    },
    {
     "name": "stdout",
     "output_type": "stream",
     "text": [
      "{'ConfigDate': datetime.date(2022, 7, 27), 'CSVPath': './result/Variant/Inverse_weights', 'CSVRoot': './result/Variant/', 'LightIntensity': 25, 'Temperature': 170, 'LossWeights': [1, 10, 100], 'CopyFlag': [1, 2, 3], 'NetDepth': [4], 'NetWidth': [120], 'TrainEpoch': 80000, 'Rsd': [11.505, 12.448, 14.019, 12.526, 13.457, 15.017], 'Rwall': [10.379, 10.826, 11.285, 6.1763, 6.4424, 6.716], 'Rrel': [63.398, 66.576, 70.446, 43.408, 45.669, 48.597], 'D': [0.87449, 0.89313, 0.9119, 0.68068, 0.69519, 0.7098], 'n': ['2.2432E13', '3.7405E13', '6.0952E13', '2.2432E13', '3.7405E13', '6.0952E13']}\n"
     ]
    }
   ],
   "source": [
    "# -*- coding: utf-8 -*-\n",
    "\"\"\"\n",
    "Created on Mon Mar 21 20:38:19 2022\n",
    "\n",
    "本文件仿真有泵浦光补偿的情况，假设有未知参数，进行逆向研究\n",
    "\n",
    "@author: Administrator\n",
    "\"\"\"\n",
    "\n",
    "\"\"\"Backend supported: tensorflow.compat.v1, torch\"\"\"\n",
    "import deepxde as dde\n",
    "import numpy as np\n",
    "import pandas as pd\n",
    "#from deepxde.backend import tf\n",
    "#from deepxde.backend import torch\n",
    "import torch\n",
    "from scipy.special import gamma\n",
    "from scipy.special import lambertw\n",
    "import yaml\n",
    "#import mayavi.mlab as mlab\n",
    "import matplotlib.pyplot as plt\n",
    "\n",
    "from PIL import Image\n",
    "\n",
    "torch.set_default_tensor_type(torch.cuda.FloatTensor)\n",
    "CopyFlag = 0\n",
    "\n",
    "## 定义模型变量\n",
    "#q_var = dde.Variable(10.0)\n",
    "## 单位统一至cm，定义各个参数\n",
    "#D = 0.695\n",
    "D_var = dde.Variable(0.001)\n",
    "\n",
    "Rsd = 13.457 #1/s\n",
    "\n",
    "\n",
    "#Rwall = 2.654 # 泡壁碰撞的参数是不是错啦\n",
    "Rwall = 6.4424 #1/s\n",
    "Rrel = 45.669 #1/s\n",
    "rpump = 0.75\n",
    "q = 5\n",
    "#q_var = dde.Variable(0.2) ## 使用乘以，试试\n",
    "#qlambda_real = 0.5\n",
    "rcell = 1.5\n",
    "\n",
    "#Rrel = Rsd + (q+q_lambda)*Rwall\n",
    "I = 25*1e-3*1e4 # kg*(cm)^2/s^3\n",
    "T = 170\n",
    "k1 = 10**(-20)*10**8 # kg*cm^4/s^2\n",
    "k2 = 10**(-17)*10**4 # cm^2\n",
    "k3 = 1 # cm^-3\n",
    "sigm = 2.34601*10**(-13) # cm^2\n",
    "\n",
    "#n = k3*(1/(T+273.15))*10**(21.866+4.402-4453/(T+273.15))\n",
    "n = 3.7405E13 #1/m³\n",
    "\n",
    "with open('./Config/train_20220715-Var.yaml') as f:\n",
    "    config = yaml.load(f, Loader=yaml.FullLoader)\n",
    "    print(config)\n"
   ]
  },
  {
   "cell_type": "code",
   "execution_count": 3,
   "id": "2aeced09",
   "metadata": {},
   "outputs": [
    {
     "data": {
      "text/plain": [
       "37405282806931.125"
      ]
     },
     "execution_count": 3,
     "metadata": {},
     "output_type": "execute_result"
    }
   ],
   "source": [
    "k3*(1/(T+273.15))*10**(21.866+4.402-4453/(T+273.15))"
   ]
  },
  {
   "cell_type": "code",
   "execution_count": 4,
   "id": "34b887c2",
   "metadata": {},
   "outputs": [],
   "source": [
    "def gen_traindata():\n",
    "    #data = np.load(\"../dataset/Lorenz.npz\")\n",
    "    filename_3D = './COMSOL_data/D_unknown.csv'\n",
    "    #df = pd.read_csv(filename, header=9, names=['x', 'y', 'z', 'Pz'])\n",
    "    df_3D = pd.read_csv(filename_3D, header=9, names=['x', 'y', 'z', 'Pz'])\n",
    "    point_num = 20000\n",
    "    axis_3D_x = np.asarray(df_3D['x'])[:point_num]\n",
    "    axis_3D_y = np.asarray(df_3D['y'])[:point_num]\n",
    "    axis_3D_z = np.asarray(df_3D['z'])[:point_num]\n",
    "    axis_3D_Pz = np.asarray(df_3D['Pz'])[:point_num]\n",
    "    axis_3D_axis = np.stack((axis_3D_x, axis_3D_y, axis_3D_z), axis=1)\n",
    "    \n",
    "    return axis_3D_axis, axis_3D_Pz.reshape(-1, 1)\n",
    "\n"
   ]
  },
  {
   "cell_type": "code",
   "execution_count": null,
   "id": "3c4e9969",
   "metadata": {},
   "outputs": [],
   "source": []
  },
  {
   "cell_type": "code",
   "execution_count": 5,
   "id": "9047cef1",
   "metadata": {},
   "outputs": [
    {
     "name": "stdout",
     "output_type": "stream",
     "text": [
      "200\n",
      "237.42250856458008\n"
     ]
    },
    {
     "data": {
      "image/png": "[encoded data removed]",
      "text/plain": [
       "<Figure size 432x288 with 1 Axes>"
      ]
     },
     "metadata": {
      "needs_background": "light"
     },
     "output_type": "display_data"
    }
   ],
   "source": [
    "## 读取COMSOL生成数据\n",
    "filename_Rop = './COMSOL_data/D_inverse_Rop0.csv'\n",
    "#df = pd.read_csv(filename, header=9, names=['x', 'y', 'z', 'Pz'])\n",
    "df_Rop = pd.read_csv(filename_Rop, header=8, names=['x','y','z','Rop'])\n",
    "Rop_raw = df_Rop['Rop']\n",
    "z_axis = df_Rop['z']\n",
    "plt.plot(z_axis,Rop_raw)\n",
    "print(len(Rop_raw))\n",
    "from scipy.interpolate import interp1d\n",
    "#z_axis = np.linspace(-1.5, 1.5, 300)\n",
    "Func_Rop = interp1d(z_axis, Rop_raw)\n",
    "print(Func_Rop(1.5))"
   ]
  },
  {
   "cell_type": "code",
   "execution_count": 6,
   "id": "fe91ef94",
   "metadata": {},
   "outputs": [],
   "source": [
    "## 自定义callbacks, 每1000epoch，打印变量的值\n",
    "\n",
    "from deepxde.callbacks import Callback\n",
    "import os\n",
    "import pandas as pd\n",
    "\n",
    "class printVariable(Callback):\n",
    "    def __init__(self, var_list, period=100, csvPath='Variable.csv', precision=4):\n",
    "        super().__init__()\n",
    "        self.var_list = var_list if isinstance(var_list, list) else [var_list]\n",
    "        self.period = period\n",
    "        self.precision = precision\n",
    "        self.csvPath = csvPath\n",
    "\n",
    "        #self.file = sys.stdout if filename is None else open(filename, \"w\", buffering=1)\n",
    "        self.value = None\n",
    "        self.epochs_since_last = 0\n",
    "        self.model = None\n",
    "        self.epoch_num = 0\n",
    "    \n",
    "    def on_train_begin(self):\n",
    "\n",
    "        self.value = [var.detach().item() for var in self.var_list]\n",
    "        df = pd.DataFrame({\n",
    "            'Epoch':self.epoch_num,\n",
    "            'Var D': self.value[0]\n",
    "        }, index=[0])\n",
    "        df.to_csv(self.csvPath, index=False, mode='w', sep=',', columns=['Epoch', 'Var D'])\n",
    "        print(\n",
    "            'Variable pred',\n",
    "            self.value[0]\n",
    "        )\n",
    "    \n",
    "    def on_epoch_end(self):\n",
    "        self.epochs_since_last += 1\n",
    "        self.epoch_num +=1\n",
    "        if self.epochs_since_last >= self.period:\n",
    "            self.epochs_since_last = 0\n",
    "            self.saveVariable()\n",
    "            \n",
    "    def saveVariable(self):\n",
    "        self.value = [var.detach().item() for var in self.var_list]\n",
    "        saveVar = np.array([self.epoch_num, self.value[0]])\n",
    "        df = pd.DataFrame({\n",
    "            'Epoch':self.epoch_num,\n",
    "            'Var D': self.value[0]\n",
    "        }, index=[0])\n",
    "        df.to_csv(self.csvPath, index=None, mode='a', sep=',', columns=['Epoch', 'Var D'], header=False)\n",
    "#         print(\n",
    "#             'Variable pred',\n",
    "#             self.value[0]\n",
    "#         )\n",
    "    def get_value(self):\n",
    "        \"\"\"Return the variable values.\"\"\"\n",
    "        return self.value\n",
    "\n",
    "   \n",
    "class saveModel(Callback):\n",
    "    def __init__(self, saveDir, saveName, period=5000, filename=None, precision=2):\n",
    "        super().__init__()\n",
    "        #self.var_list = var_list if isinstance(var_list, list) else [var_list]\n",
    "        self.period = period\n",
    "        self.precision = precision\n",
    "\n",
    "        #self.file = sys.stdout if filename is None else open(filename, \"w\", buffering=1)\n",
    "        self.value = None\n",
    "        self.epochs_since_last = 0\n",
    "        self.model = None\n",
    "        self.modelNum = 0\n",
    "        self.saveDir = saveDir\n",
    "        self.saveName = saveName\n",
    "        if not os.path.exists(self.saveDir):\n",
    "            os.makedirs(self.saveDir)\n",
    "        \n",
    "    def set_model(self, model):\n",
    "        if model is not self.model:\n",
    "            self.model = model\n",
    "            self.init()    \n",
    "            \n",
    "    def on_epoch_end(self):\n",
    "        self.epochs_since_last += 1\n",
    "        if self.epochs_since_last >= self.period:\n",
    "            self.modelNum += 1\n",
    "            self.epochs_since_last = 0  \n",
    "            savePath = os.path.join(self.saveDir, self.saveName+str(self.modelNum)+'.pt')\n",
    "            #print(self.model.net.state_dict())\n",
    "            checkpoint = {\n",
    "                \"model_state_dict\": self.model.net.state_dict(),\n",
    "                \"optimizer\":self.model.opt.state_dict()\n",
    "            }\n",
    "            torch.save(checkpoint, savePath)          \n",
    "            print('Save model....')\n",
    "\n",
    "class loadModel(Callback):\n",
    "    def __init__(self, loadPath):\n",
    "        super().__init__()\n",
    "        #self.var_list = var_list if isinstance(var_list, list) else [var_list]\n",
    "        self.loadPath = loadPath\n",
    "        \n",
    "    def set_model(self, model):\n",
    "        if model is not self.model:\n",
    "            self.model = model\n",
    "            self.init()    \n",
    "            \n",
    "    def on_train_begin(self):\n",
    "        checkpoint = torch.load(self.loadPath)\n",
    "        self.model.net.load_state_dict(checkpoint[\"model_state_dict\"])\n",
    "        #self.model.opt.load_state_dict(checkpoint[\"optimizer\"])\n",
    "        print('Load model successful')\n",
    "        \n",
    "        "
   ]
  },
  {
   "cell_type": "code",
   "execution_count": 7,
   "id": "adcf32cc",
   "metadata": {},
   "outputs": [],
   "source": [
    "def bloch_pde(x_in, y_in):\n",
    "    ''' x_in: (x,y,z) axis\n",
    "        y_in: Pz polarization\n",
    "    '''\n",
    "    x_in_copy = x_in.detach().cpu().numpy()\n",
    "    x = x_in_copy[:, 0:1]\n",
    "    y = x_in_copy[:, 1:2]\n",
    "    z = x_in_copy[:, 2:3]\n",
    "    \n",
    "#     sess = tf.compat.v1.Session(graph=tf.compat.v1.get_default_graph())\n",
    "#     x_arr = x.eval(session=sess)\n",
    "    dy_xx = dde.grad.hessian(y_in, x_in, i=0, j=0)\n",
    "    dy_yy = dde.grad.hessian(y_in, x_in, i=1, j=1)\n",
    "    dy_zz = dde.grad.hessian(y_in, x_in, i=2, j=2) # dy/dxidxj\n",
    "\n",
    "    plog1 = lambertw((sigm*I/(Rrel*k1))*np.exp((sigm*I/(Rrel*k1))-n*sigm*z))\n",
    "    plog2 = lambertw((sigm*I/(Rrel*k1))*np.exp((sigm*I/(Rrel*k1))+n*sigm*z))\n",
    "    Rop0_z = k2*(Rrel/sigm)*(np.real(plog1) + np.real(plog2))\n",
    "    Rop0_z = np.asarray(Rop0_z)    \n",
    "    \n",
    "    Rop = Rop0_z * np.exp(-2*(x**2+y**2)/rpump**2)\n",
    "    Rop = torch.from_numpy(Rop).cuda()\n",
    "# ## 方法：通过COMSOL采样计算Rop    \n",
    "#     Rop_z = Func_Rop(z)    \n",
    "#     Rop = Rop_z * np.exp(-2*(x**2+y**2)/rpump**2)\n",
    "#     Rop = torch.from_numpy(Rop).cuda()\n",
    "    #Rop = Rop0\n",
    "    \n",
    "    return -D_var*(dy_xx+dy_yy+dy_zz) + ((Rop+Rsd)/q+Rwall)*y_in - Rop/q\n",
    "\n",
    "# def func(x):\n",
    "#     return (np.abs(1 - np.linalg.norm(x, axis=1, keepdims=True) ** 2)) ** (\n",
    "#         1 + alpha / 2\n",
    "#     )\n",
    "\n",
    "def func_boundary(x_in, Pz, numpy_X):\n",
    "    x_in_copy = x_in.detach().cpu().numpy()\n",
    "    x = x_in_copy[:, 0:1]\n",
    "    y = x_in_copy[:, 1:2]\n",
    "    z = x_in_copy[:, 2:3]\n",
    "    \n",
    "    dPz_x = dde.grad.jacobian(Pz, x_in, i=0, j=0) # This is right\n",
    "    dPz_y = dde.grad.jacobian(Pz, x_in, i=0, j=1)\n",
    "    dPz_z = dde.grad.jacobian(Pz, x_in, i=0, j=2)\n",
    "    \n",
    "    #Rop = Rop0 * np.exp(-2*(x**2+y**2)/rpump**2)\n",
    "    \n",
    "    plog1 = lambertw((sigm*I/(Rrel*k1))*np.exp((sigm*I/(Rrel*k1))-n*sigm*z))\n",
    "    plog2 = lambertw((sigm*I/(Rrel*k1))*np.exp((sigm*I/(Rrel*k1))+n*sigm*z))\n",
    "    Rop0_z = k2*(Rrel/sigm)*(np.real(plog1) + np.real(plog2))\n",
    "    Rop0_z = np.asarray(Rop0_z)    \n",
    "    \n",
    "    Rop = Rop0_z * np.exp(-2*(x**2+y**2)/rpump**2)\n",
    "    #Rop = torch.from_numpy(Rop).cuda()\n",
    "\n",
    "#     Rop_z = Func_Rop(z)    \n",
    "#     Rop = Rop_z * np.exp(-2*(x**2+y**2)/rpump**2)\n",
    "    \n",
    "    second_term = np.sqrt(1/2*np.abs(Rop*D_var.detach().cpu().numpy()))\n",
    "    second_term = torch.from_numpy(second_term).cuda()\n",
    "    #Rop = torch.from_numpy(Rop).cuda()\n",
    "    # tranfer back to torch.tensor\n",
    "    #Rop = torch.from_numpy(Rop).cuda()\n",
    "#     x = torch.from_numpy(x).cuda()\n",
    "#     y = torch.from_numpy(y).cuda()\n",
    "#     z = torch.from_numpy(z).cuda()\n",
    "    x = x_in[:, 0:1]\n",
    "    y = x_in[:, 1:2]\n",
    "    z = x_in[:, 2:3]\n",
    "    \n",
    "    return (D_var/rcell*(x*dPz_x + y*dPz_y + z*dPz_z) + Pz*second_term)\n",
    "\n",
    "\n",
    "# for lossWeight in config['LossWeights']:\n",
    "#     geom = dde.geometry.Sphere([0, 0, 0], rcell)\n",
    "#     #bc = dde.icbc.DirichletBC(geom, func_boundary, lambda _, on_boundary: on_boundary)\n",
    "\n",
    "#     #bc = dde.icbc.RobinBC(geom, func_boundary, lambda _, on_boundary: on_boundary)\n",
    "#     bc = dde.icbc.OperatorBC(geom, func_boundary, lambda _, on_boundary: on_boundary) # 函数调研下，operatorBC\n",
    "\n",
    "\n",
    "#     ## 添加变量参数约束\n",
    "\n",
    "#     # Get the train data\n",
    "#     observe_axis, ob_pz = gen_traindata()\n",
    "#     print('Pz shape ', ob_pz.shape)\n",
    "#     observe_points = dde.icbc.PointSetBC(observe_axis, ob_pz, component=0)\n",
    "\n",
    "#     data = dde.data.PDE(geom, bloch_pde,\\\n",
    "#                         [bc, observe_points],\\\n",
    "#                         num_domain=20000, num_boundary=2000,\\\n",
    "#                        anchors=observe_axis)\n",
    "\n",
    "#     net = dde.nn.FNN([3] + [120] * 4 + [1], \"tanh\", \"Glorot normal\")\n",
    "#     # net.apply_output_transform(\n",
    "#     #     lambda x, y: (1 - tf.reduce_sum(x ** 2, axis=1, keepdims=True)) * y\n",
    "#     # )\n",
    "\n",
    "#     model = dde.Model(data, net)\n",
    "#     model.compile(\"adam\", lr=1e-4, external_trainable_variables=[D_var],loss_weights=[1,1,lossWeight])\n",
    "#     #losshistory, train_state = model.train(epochs=8000, model_save_path='Bloch_Rop_v1')\n",
    "#     print_variable = printVariable([D_var], csvPath=config['CSVPath']+'{}.csv'.format(lossWeight))\n",
    "#     saveModelCall = saveModel('./model/inverse/', 'Dpred_W{}_'.format(lossWeight))\n",
    "#     #loadModel_call = loadModel('pre1.pt')\n",
    "#     # losshistory, train_state = model.train(iterations=60000, callbacks=[variable])\n",
    "#     # dde.saveplot(losshistory, train_state, issave=True, isplot=True)\n",
    "#     losshistory, train_state = model.train(epochs=config['TrainEpoch'], callbacks=[print_variable, saveModelCall])\n",
    "#     dde.saveplot(losshistory, train_state, issave=True, isplot=True)"
   ]
  },
  {
   "cell_type": "code",
   "execution_count": 8,
   "id": "3bf7dacc",
   "metadata": {},
   "outputs": [],
   "source": [
    "# ## 读取dat文件，并绘图\n",
    "\n",
    "# q_datFile = pd.read_csv(\"variables_D.dat\", header=None, usecols=[0])\n",
    "\n",
    "# #q_data = np.asarray(q_datFile)\n",
    "# #plt.plot(q_data)\n",
    "# q_data = []\n",
    "# for i in q_datFile[0]:\n",
    "#     q_data.append(float(i.split('[')[1].split(']')[0]))\n",
    "    \n",
    "# ## 正确的参考值在0.18附件    \n",
    "# plt.plot(q_data)    "
   ]
  },
  {
   "cell_type": "code",
   "execution_count": 11,
   "id": "e5654bac",
   "metadata": {},
   "outputs": [
    {
     "data": {
      "text/plain": [
       "(40000, 3)"
      ]
     },
     "execution_count": 11,
     "metadata": {},
     "output_type": "execute_result"
    }
   ],
   "source": [
    "def Sample_PlaneData(z=0, sample_num = 200):\n",
    "    radius_z = np.sqrt(rcell**2 -z**2)\n",
    "    sample_data = []    \n",
    "\n",
    "    for theta in np.linspace(0, 2*np.pi, sample_num):\n",
    "        for r_pow in np.linspace(0, radius_z**2, sample_num):\n",
    "            x = np.sqrt(r_pow) * np.cos(theta)\n",
    "            y = np.sqrt(r_pow) * np.sin(theta)\n",
    "            sample_data.append((x, y, z)) # 200*200 = 40000个采样点\n",
    "\n",
    "    sample_data = np.asarray(sample_data, dtype=np.float32\n",
    "                            )\n",
    "    return sample_data\n",
    "\n",
    "SampleAxis = Sample_PlaneData()\n",
    "SampleDf = pd.DataFrame(SampleAxis).to_csv('axis_position.csv',index=None,header=False)\n",
    "SampleAxis.shape"
   ]
  },
  {
   "cell_type": "code",
   "execution_count": 16,
   "id": "4b9cc530",
   "metadata": {},
   "outputs": [
    {
     "name": "stdout",
     "output_type": "stream",
     "text": [
      "Pz shape  (20000, 1)\n"
     ]
    },
    {
     "name": "stderr",
     "output_type": "stream",
     "text": [
      "/usr/local/lib/python3.6/dist-packages/skopt/sampler/sobol.py:250: UserWarning: The balance properties of Sobol' points require n to be a power of 2. 0 points have been previously generated, then: n=0+20002=20002. \n",
      "  total_n_samples))\n"
     ]
    },
    {
     "name": "stdout",
     "output_type": "stream",
     "text": [
      "Compiling model...\n",
      "'compile' took 0.000865 s\n",
      "\n",
      "Load model successful\n"
     ]
    },
    {
     "name": "stderr",
     "output_type": "stream",
     "text": [
      "/usr/local/lib/python3.6/dist-packages/skopt/sampler/sobol.py:250: UserWarning: The balance properties of Sobol' points require n to be a power of 2. 0 points have been previously generated, then: n=0+2002=2002. \n",
      "  total_n_samples))\n"
     ]
    }
   ],
   "source": [
    "geom = dde.geometry.Sphere([0, 0, 0], rcell)\n",
    "#bc = dde.icbc.DirichletBC(geom, func_boundary, lambda _, on_boundary: on_boundary)\n",
    "\n",
    "#bc = dde.icbc.RobinBC(geom, func_boundary, lambda _, on_boundary: on_boundary)\n",
    "bc = dde.icbc.OperatorBC(geom, func_boundary, lambda _, on_boundary: on_boundary) # 函数调研下，operatorBC\n",
    "\n",
    "\n",
    "## 添加变量参数约束\n",
    "\n",
    "# Get the train data\n",
    "observe_axis, ob_pz = gen_traindata()\n",
    "print('Pz shape ', ob_pz.shape)\n",
    "observe_points = dde.icbc.PointSetBC(observe_axis, ob_pz, component=0)\n",
    "\n",
    "data = dde.data.PDE(geom, bloch_pde,\\\n",
    "                    [bc, observe_points],\\\n",
    "                    num_domain=20000, num_boundary=2000,\\\n",
    "                   anchors=observe_axis)\n",
    "\n",
    "net = dde.nn.FNN([3] + [120] * 4 + [1], \"tanh\", \"Glorot normal\")\n",
    "# net.apply_output_transform(\n",
    "#     lambda x, y: (1 - tf.reduce_sum(x ** 2, axis=1, keepdims=True)) * y\n",
    "# )\n",
    "\n",
    "model = dde.Model(data, net)\n",
    "model.compile(\"adam\", lr=1e-4)\n",
    "loadPath = 'Dpred_weights1000.pt'\n",
    "checkpoint = torch.load(loadPath)\n",
    "model.net.load_state_dict(checkpoint[\"model_state_dict\"])\n",
    "#self.model.opt.load_state_dict(checkpoint[\"optimizer\"])\n",
    "print('Load model successful')"
   ]
  },
  {
   "cell_type": "code",
   "execution_count": 17,
   "id": "5d455861",
   "metadata": {},
   "outputs": [],
   "source": [
    "predPolar = model.predict(SampleAxis)\n",
    "predDf = pd.DataFrame(predPolar).to_csv('predPolar.csv',index=None,header=False)\n"
   ]
  },
  {
   "cell_type": "code",
   "execution_count": 15,
   "id": "6f7928af",
   "metadata": {},
   "outputs": [
    {
     "data": {
      "text/plain": [
       "(40000, 3)"
      ]
     },
     "execution_count": 15,
     "metadata": {},
     "output_type": "execute_result"
    }
   ],
   "source": [
    "SampleAxis.shape"
   ]
  },
  {
   "cell_type": "code",
   "execution_count": null,
   "id": "bb24d229",
   "metadata": {},
   "outputs": [],
   "source": []
  }
 ],
 "metadata": {
  "kernelspec": {
   "display_name": "Python 3",
   "language": "python",
   "name": "python3"
  },
  "language_info": {
   "codemirror_mode": {
    "name": "ipython",
    "version": 3
   },
   "file_extension": ".py",
   "mimetype": "text/x-python",
   "name": "python",
   "nbconvert_exporter": "python",
   "pygments_lexer": "ipython3",
   "version": "3.6.9"
  }
 },
 "nbformat": 4,
 "nbformat_minor": 5
}
